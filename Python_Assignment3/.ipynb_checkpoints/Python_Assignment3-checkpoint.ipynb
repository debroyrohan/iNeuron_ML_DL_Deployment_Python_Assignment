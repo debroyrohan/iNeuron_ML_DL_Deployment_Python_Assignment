{
 "cells": [
  {
   "cell_type": "markdown",
   "metadata": {},
   "source": [
    "1.1 Write a Python Program to implement your own myreduce() function which works exactly\n",
    "like Python's built-in function reduce()"
   ]
  },
  {
   "cell_type": "code",
   "execution_count": 6,
   "metadata": {},
   "outputs": [
    {
     "data": {
      "text/plain": [
       "52"
      ]
     },
     "execution_count": 6,
     "metadata": {},
     "output_type": "execute_result"
    }
   ],
   "source": [
    "#Answer of question no. 1.1\n",
    "\n",
    "#myreduce() function:-\n",
    "def myreduce(function, sequence):\n",
    "    \n",
    "    '''\n",
    "    The function myreduce(function, sequence) continually applies the function to the sequence. It then returns a single value.\n",
    "\n",
    "If seq = [s1, s2, s3, ... , sn], calling myreduce(function, sequence) works like this:\n",
    "\n",
    "At first the first two elements of sequence will be applied to function, i.e. func(s1,s2)\n",
    "The list on which myreduce() works looks like this: [ function(s1, s2), s3, ... , sn ]\n",
    "In the next step the function will be applied on the previous result and the third element of the list, i.e. function(function(s1, s2),s3)\n",
    "The list looks like: [ function(function(s1, s2),s3), ... , sn ]\n",
    "It continues like this until just one element is left and return this element as the result of myreduce()\n",
    "    '''\n",
    "    \n",
    "    first_arg = sequence[0]\n",
    "    second_arg = sequence[1]\n",
    "    \n",
    "    for i in range(2, len(sequence)):\n",
    "        first_arg, second_arg = function(first_arg, second_arg), sequence[i]\n",
    "    if(first_arg >= second_arg):\n",
    "        return first_arg\n",
    "    else:\n",
    "        return second_arg\n",
    "\n",
    "#Demo problem to test myreduce function:-\n",
    "max_find = lambda a,b: a if (a > b) else b\n",
    "lst =[47,11,52,13]\n",
    "\n",
    "#calling myreduce function:-\n",
    "myreduce(max_find,lst)"
   ]
  },
  {
   "cell_type": "markdown",
   "metadata": {},
   "source": [
    "1.2 Write a Python program to implement your own myfilter() function which works exactly\n",
    "like Python's built-in function filter()"
   ]
  },
  {
   "cell_type": "code",
   "execution_count": 10,
   "metadata": {},
   "outputs": [
    {
     "name": "stdout",
     "output_type": "stream",
     "text": [
      "<generator object myfilter at 0x000002588E0F5C80>\n"
     ]
    },
    {
     "data": {
      "text/plain": [
       "[2, 4, 6, 8]"
      ]
     },
     "execution_count": 10,
     "metadata": {},
     "output_type": "execute_result"
    }
   ],
   "source": [
    "#Answer of question no. 1.2\n",
    "\n",
    "#myfilter() function:-\n",
    "def myfilter(function, lst):\n",
    "    \n",
    "    '''\n",
    "    The function myfilter(function, list) offers a convenient way to filter out all the elements of an iterable, \n",
    "    for which the function returns \"True\".\n",
    "\n",
    "The function myfilter(function(),l) needs a function as its first argument. \n",
    "The function needs to return a Boolean value (either True or False). \n",
    "This function will be applied to every element of the iterable. \n",
    "Only if the function returns \"True\" will the element of the iterable be included in the result.\n",
    "    '''\n",
    "    \n",
    "    for element in lst:\n",
    "        if function(element):\n",
    "            resultant_elements = element\n",
    "            yield resultant_elements\n",
    "    return resultant_elements\n",
    "\n",
    "#Demo problem to test myfilter function:-\n",
    "def even_check(num):\n",
    "    if num%2 ==0:\n",
    "        return True\n",
    "    \n",
    "#calling myfilter function:-\n",
    "lst =[1,2,3,4,5,6,7,8]\n",
    "\n",
    "print(myfilter(even_check,lst))\n",
    "\n",
    "list(myfilter(even_check,lst))"
   ]
  },
  {
   "cell_type": "markdown",
   "metadata": {},
   "source": [
    "2. Implement List comprehensions to produce the following lists.\n",
    "\n",
    "Write List comprehensions to produce the following Lists\n",
    "\n",
    "['A', 'C', 'A', 'D', 'G', 'I', ’L’, ‘ D’]\n",
    "\n",
    "['x', 'xx', 'xxx', 'xxxx', 'y', 'yy', 'yyy', 'yyyy', 'z', 'zz', 'zzz', 'zzzz']\n",
    "\n",
    "['x', 'y', 'z', 'xx', 'yy', 'zz', 'xxx', 'yyy', 'zzz', 'xxxx', 'yyyy', 'zzzz']\n",
    "\n",
    "[[2], [3], [4], [3], [4], [5], [4], [5], [6]] [[2, 3, 4, 5], [3, 4, 5, 6],\n",
    "[4, 5, 6, 7], [5, 6, 7, 8]]\n",
    "\n",
    "[(1, 1), (2, 1), (3, 1), (1, 2), (2, 2), (3, 2), (1, 3), (2, 3), (3, 3)]\n"
   ]
  },
  {
   "cell_type": "code",
   "execution_count": 19,
   "metadata": {},
   "outputs": [
    {
     "name": "stdout",
     "output_type": "stream",
     "text": [
      "['A', 'C', 'A', 'D', 'G', 'I', 'L', 'D']\n",
      "['x', 'xx', 'xxx', 'y', 'yy', 'yyy', 'z', 'zz', 'zzz']\n",
      "['x', 'y', 'z', 'xx', 'yy', 'zz', 'xxx', 'yyy', 'zzz', 'xxxx', 'yyyy', 'zzzz']\n",
      "[[2], [3], [4], [3], [4], [5], [4], [5], [6]]\n",
      "[[2, 3, 4, 5], [3, 4, 5, 6], [4, 5, 6, 7], [5, 6, 7, 8]]\n",
      "[(1, 1), (2, 1), (3, 1), (1, 2), (2, 2), (3, 2), (1, 3), (2, 3), (3, 3)]\n"
     ]
    }
   ],
   "source": [
    "#Answer of question no. 2\n",
    "temp_word = \"acadgild\"\n",
    "print([element.upper() for element in temp_word])\n",
    "\n",
    "temp_value = 'xyz'\n",
    "print([element * i for element in temp_value for i in range(1, 4)])\n",
    "\n",
    "print([element * i for i in range(1, 5) for element in temp_value])\n",
    "\n",
    "print([[i + j] for j in [0, 1, 2] for i in range(2, 5)])\n",
    "\n",
    "print([[i + j for j in [0, 1, 2, 3]] for i in range(2, 6)])\n",
    "\n",
    "print([(j, i) for i in range(1, 4) for j in range(1, 4)])"
   ]
  },
  {
   "cell_type": "code",
   "execution_count": null,
   "metadata": {},
   "outputs": [],
   "source": []
  }
 ],
 "metadata": {
  "kernelspec": {
   "display_name": "Python 3",
   "language": "python",
   "name": "python3"
  },
  "language_info": {
   "codemirror_mode": {
    "name": "ipython",
    "version": 3
   },
   "file_extension": ".py",
   "mimetype": "text/x-python",
   "name": "python",
   "nbconvert_exporter": "python",
   "pygments_lexer": "ipython3",
   "version": "3.8.3"
  }
 },
 "nbformat": 4,
 "nbformat_minor": 4
}
