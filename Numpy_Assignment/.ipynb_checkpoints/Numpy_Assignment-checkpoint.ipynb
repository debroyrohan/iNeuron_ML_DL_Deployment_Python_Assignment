{
 "cells": [
  {
   "cell_type": "code",
   "execution_count": 1,
   "metadata": {},
   "outputs": [],
   "source": [
    "import numpy as np"
   ]
  },
  {
   "cell_type": "markdown",
   "metadata": {},
   "source": [
    "# Problem Statement 1:\n",
    "\n",
    "Write a function so that the columns of the output matrix are powers of the input vector.\n",
    "\n",
    "The order of the powers is determined by the increasing boolean argument. Specifically, when increasing is False, the i-th output column is the input vector raised element-wise to the power of N - i - 1.\n",
    "\n",
    "HINT: Such a matrix with a geometric progression in each row is named for Alexandre-Theophile Vandermonde.\n"
   ]
  },
  {
   "cell_type": "code",
   "execution_count": 2,
   "metadata": {},
   "outputs": [
    {
     "name": "stdout",
     "output_type": "stream",
     "text": [
      "[[  1   1   1   1   1]\n",
      " [ 16   8   4   2   1]\n",
      " [ 81  27   9   3   1]\n",
      " [256  64  16   4   1]\n",
      " [625 125  25   5   1]]\n"
     ]
    }
   ],
   "source": [
    "#custom_vandar function\n",
    "def custom_vandar(input_array, N=None, increasing=False):\n",
    "    \n",
    "    output_matrix = None\n",
    "    \n",
    "    try:\n",
    "        \n",
    "        if(increasing):\n",
    "            if N is not None:\n",
    "                output_matrix = np.column_stack([input_array**i for i in range(N)])\n",
    "            else:\n",
    "                output_matrix = np.column_stack([input_array**i for i in range(len(input_array))])\n",
    "        else:\n",
    "            if N is not None:\n",
    "                output_matrix = np.column_stack([input_array**(N-1-i) for i in range(N)])\n",
    "            else:\n",
    "                output_matrix = np.column_stack([input_array**(len(input_array)-1-i) for i in range(len(input_array))])\n",
    "    \n",
    "    except Exception as e:\n",
    "        \n",
    "        print('Some Error has occured related to: {}'.format(str(e)))\n",
    "        \n",
    "    else:\n",
    "        \n",
    "        return output_matrix\n",
    "        \n",
    "#Input\n",
    "input_array=np.array([1, 2, 3, 4, 5])\n",
    "print(custom_vandar(input_array))"
   ]
  },
  {
   "cell_type": "markdown",
   "metadata": {},
   "source": [
    "# Problem Statement 2:\n",
    "\n",
    "Given a sequence of n values x1, x2, ..., xn and a window size k>0, the k-th moving average of the given sequence is defined as follows:\n",
    "\n",
    "The moving average sequence has n-k+1 elements as shown below.\n",
    "\n",
    "The moving averages with k=4 of a ten-value sequence (n=10) is shown below\n",
    "\n",
    "i 1 2 3 4 5 6 7 8 9 10\n",
    "\n",
    "===== == == == == == == == == == ==\n",
    "\n",
    "Input 10 20 30 40 50 60 70 80 90 100\n",
    "\n",
    "y1 25 = (10+20+30+40)/4\n",
    "\n",
    "y2 35 = (20+30+40+50)/4\n",
    "\n",
    "y3 45 = (30+40+50+60)/4\n",
    "\n",
    "y4 55 = (40+50+60+70)/4\n",
    "\n",
    "y5 65 = (50+60+70+80)/4\n",
    "\n",
    "y6 75 = (60+70+80+90)/4\n",
    "\n",
    "y7 85 = (70+80+90+100)/4\n",
    "\n",
    "Thus, the moving average sequence has n-k+1=10-4+1=7 values.\n",
    "\n",
    "Question: Write a function to find moving average in an array over a window:\n",
    "\n",
    "Test it over [3, 5, 7, 2, 8, 10, 11, 65, 72, 81, 99, 100, 150] and window of 3.\n"
   ]
  },
  {
   "cell_type": "code",
   "execution_count": 3,
   "metadata": {},
   "outputs": [
    {
     "name": "stdout",
     "output_type": "stream",
     "text": [
      "y1 = 5.00\n",
      "y2 = 4.67\n",
      "y3 = 5.67\n",
      "y4 = 6.67\n",
      "y5 = 9.67\n",
      "y6 = 28.67\n",
      "y7 = 49.33\n",
      "y8 = 72.67\n",
      "y9 = 84.00\n",
      "y10 = 93.33\n",
      "y11 = 116.33\n"
     ]
    }
   ],
   "source": [
    "#moving_average_sequence_function\n",
    "def find_moving_avg(input_array, k):\n",
    "    \n",
    "    output = []\n",
    "    counter = 0\n",
    "    \n",
    "    try:\n",
    "        \n",
    "        while(counter < len(input_array)-k+1):\n",
    "            \n",
    "            output.append(np.sum(input_array[counter: k+counter])/k)\n",
    "            counter +=1\n",
    "    \n",
    "    except Exception as e:\n",
    "        \n",
    "        print('Some Error has occured related to: {}'.format(str(e)))\n",
    "        \n",
    "    else:\n",
    "        \n",
    "        for value in output:\n",
    "            \n",
    "            print('y'+str(output.index(value)+1) + \" = {:.2F}\".format(value))\n",
    "            \n",
    "#Testinput\n",
    "input_array = np.array([3, 5, 7, 2, 8, 10, 11, 65, 72, 81, 99, 100, 150])\n",
    "window_size = 3\n",
    "find_moving_avg(input_array, window_size)"
   ]
  }
 ],
 "metadata": {
  "kernelspec": {
   "display_name": "Python 3",
   "language": "python",
   "name": "python3"
  },
  "language_info": {
   "codemirror_mode": {
    "name": "ipython",
    "version": 3
   },
   "file_extension": ".py",
   "mimetype": "text/x-python",
   "name": "python",
   "nbconvert_exporter": "python",
   "pygments_lexer": "ipython3",
   "version": "3.8.3"
  }
 },
 "nbformat": 4,
 "nbformat_minor": 4
}
