{
 "cells": [
  {
   "cell_type": "markdown",
   "metadata": {},
   "source": [
    "1.1 Write a Python Program(with class concepts) to find the area of the triangle using the below\n",
    "formula.\n",
    "\n",
    "area = (s*(s-a)*(s-b)*(s-c))  **  0.5\n",
    "\n",
    "Function to take the length of the sides of triangle from user should be defined in the parent\n",
    "\n",
    "class and function to calculate the area should be defined in subclass.\n"
   ]
  },
  {
   "cell_type": "code",
   "execution_count": 20,
   "metadata": {},
   "outputs": [
    {
     "name": "stdout",
     "output_type": "stream",
     "text": [
      "Please provide the sides: 5 7 8\n",
      "These are the sides of the polygon:  5,7,8\n",
      "This class accept the length of sides of a Triangle and provide the area of it\n",
      "Area of Trianlgle is: 17.320508 sq unit.\n"
     ]
    }
   ],
   "source": [
    "#Answer of question no. 1.1\n",
    "class Polygon:\n",
    "    \n",
    "    #Here I have define the constructor of class Polygon\n",
    "    def __init__(self, length_of_sides):\n",
    "        self.length_of_sides = length_of_sides\n",
    "        \n",
    "    #description of Polygon class\n",
    "    def __str__(self):\n",
    "        return \"This class accept the length of sides of polygon\"\n",
    "\n",
    "    #Display the sides of Polygon    \n",
    "    def get_sides(self):\n",
    "        print(\"These are the sides of the polygon: \", \",\".join(str(sides) for sides in self.length_of_sides))\n",
    "\n",
    "        \n",
    "class Triangle(Polygon):\n",
    "    \n",
    "    #Here I have define the constructor of class Triangle\n",
    "    def __init__(self, sides_of_triangle):\n",
    "        super(Triangle, self).__init__(sides_of_triangle)\n",
    "        \n",
    "    #description of Triangle class\n",
    "    def __str__(self):\n",
    "        return \"This class accept the length of sides of a Triangle and provide the area of it\"\n",
    "        \n",
    "    #Here the function gives the area of a traingle by semi perimeter method or using Herons Formula.\n",
    "    def area_triangle(self):\n",
    "        s = sum(self.length_of_sides)/2\n",
    "        return \"Area of Trianlgle is: %f sq unit.\" %(s * (s - self.length_of_sides[0]) * (s - self.length_of_sides[1]) * (s - self.length_of_sides[2])) ** 0.5\n",
    "\n",
    "\n",
    "#Inputs of sides of a triangle and object creation of the classes above.\n",
    "length = list(map(int, input(\"Please provide the sides: \").split()))\n",
    "\n",
    "triangle = Triangle(length)\n",
    "\n",
    "triangle.get_sides()\n",
    "\n",
    "print(triangle)\n",
    "\n",
    "print(triangle.area_triangle())"
   ]
  },
  {
   "cell_type": "markdown",
   "metadata": {},
   "source": [
    "1.2 Write a function filter_long_words() that takes a list of words and an integer n and returns\n",
    "\n",
    "the list of words that are longer than n."
   ]
  },
  {
   "cell_type": "code",
   "execution_count": 24,
   "metadata": {},
   "outputs": [
    {
     "name": "stdout",
     "output_type": "stream",
     "text": [
      "These are the list of words greater than n: ['ETGHGE', 'AGTERYEWTW ', 'fyrurhe']\n"
     ]
    }
   ],
   "source": [
    "#Answer of question no. 1.2\n",
    "def filter_long_words(word_lst, n):\n",
    "    \n",
    "    return [words for words in word_lst if len(words) > n]\n",
    "\n",
    "word_lst = [\"ETGHGE\", \"AGTERYEWTW \", \"fyrurhe\", \"SFG\"]\n",
    "n = 4\n",
    "print(\"These are the list of words greater than n:\", filter_long_words(word_lst, n))"
   ]
  },
  {
   "cell_type": "markdown",
   "metadata": {},
   "source": [
    "2.1 Write a Python program using function concept that maps list of words into a list of integers\n",
    "\n",
    "representing the lengths of the corresponding words.\n",
    "\n",
    "Hint: If a list [ ab,cde,erty] is passed on to the python function output should come as [2,3,4]\n",
    "\n",
    "Here 2,3 and 4 are the lengths of the words in the list."
   ]
  },
  {
   "cell_type": "code",
   "execution_count": 26,
   "metadata": {},
   "outputs": [
    {
     "name": "stdout",
     "output_type": "stream",
     "text": [
      "[2, 3, 4]\n"
     ]
    }
   ],
   "source": [
    "#Answer of question no. 2.1\n",
    "def get_length_of_words(word_lst):\n",
    "    \n",
    "    return [len(word) for word in word_lst]\n",
    "\n",
    "word_lst = [\"ab\", \"cde\", \"erty\"]\n",
    "\n",
    "print(get_length_of_words(word_lst))"
   ]
  },
  {
   "cell_type": "markdown",
   "metadata": {},
   "source": [
    "2.2 Write a Python function which takes a character (i.e. a string of length 1) and returns True if\n",
    "\n",
    "it is a vowel, False otherwise."
   ]
  },
  {
   "cell_type": "code",
   "execution_count": 31,
   "metadata": {},
   "outputs": [
    {
     "name": "stdout",
     "output_type": "stream",
     "text": [
      "True\n",
      "True\n"
     ]
    }
   ],
   "source": [
    "#Answer of question no. 2.2\n",
    "def check_vowel(character):\n",
    "    \n",
    "    if len(character) == 1:\n",
    "        if character in [\"a\", \"e\", \"i\", \"o,\" \"u\", \"A\", \"E\", \"I\", \"O\", \"U\"]:\n",
    "            return True\n",
    "        else:\n",
    "            return False\n",
    "        \n",
    "#Using lambda function\n",
    "answer = lambda character: True if character in [\"a\", \"e\", \"i\", \"o,\" \"u\", \"A\", \"E\", \"I\", \"O\", \"U\"] else False\n",
    "        \n",
    "character = \"A\"\n",
    "print(check_vowel(character))\n",
    "print(answer(character))"
   ]
  },
  {
   "cell_type": "code",
   "execution_count": null,
   "metadata": {},
   "outputs": [],
   "source": []
  }
 ],
 "metadata": {
  "kernelspec": {
   "display_name": "Python 3",
   "language": "python",
   "name": "python3"
  },
  "language_info": {
   "codemirror_mode": {
    "name": "ipython",
    "version": 3
   },
   "file_extension": ".py",
   "mimetype": "text/x-python",
   "name": "python",
   "nbconvert_exporter": "python",
   "pygments_lexer": "ipython3",
   "version": "3.8.3"
  }
 },
 "nbformat": 4,
 "nbformat_minor": 4
}
